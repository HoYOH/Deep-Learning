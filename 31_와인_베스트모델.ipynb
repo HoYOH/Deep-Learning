{
  "nbformat": 4,
  "nbformat_minor": 0,
  "metadata": {
    "interpreter": {
      "hash": "c81169c30fb96244cfba0db287a0d3fd5325268de070a7a6116eecd4596df902"
    },
    "kernelspec": {
      "display_name": "Python 3.8.8 64-bit ('base': conda)",
      "name": "python3"
    },
    "language_info": {
      "codemirror_mode": {
        "name": "ipython",
        "version": 3
      },
      "file_extension": ".py",
      "mimetype": "text/x-python",
      "name": "python",
      "nbconvert_exporter": "python",
      "pygments_lexer": "ipython3",
      "version": "3.8.8"
    },
    "orig_nbformat": 4,
    "colab": {
      "name": "31_와인 베스트모델.ipynb",
      "provenance": [],
      "collapsed_sections": [],
      "include_colab_link": true
    }
  },
  "cells": [
    {
      "cell_type": "markdown",
      "metadata": {
        "id": "view-in-github",
        "colab_type": "text"
      },
      "source": [
        "<a href=\"https://colab.research.google.com/github/HoYOH/Deep-Learning/blob/main/31_%EC%99%80%EC%9D%B8_%EB%B2%A0%EC%8A%A4%ED%8A%B8%EB%AA%A8%EB%8D%B8.ipynb\" target=\"_parent\"><img src=\"https://colab.research.google.com/assets/colab-badge.svg\" alt=\"Open In Colab\"/></a>"
      ]
    },
    {
      "cell_type": "markdown",
      "metadata": {
        "id": "Pd2nFQAKOOC2"
      },
      "source": [
        "# 베스트 모델 찾기 - 와인 이진분류"
      ]
    },
    {
      "cell_type": "code",
      "metadata": {
        "id": "gYLMXHbpOOC5"
      },
      "source": [
        "import numpy as np\n",
        "import pandas as pd\n",
        "import tensorflow as tf\n",
        "seed = 2021\n",
        "np.random.seed(seed)\n",
        "tf.random.set_seed(seed)"
      ],
      "execution_count": 2,
      "outputs": []
    },
    {
      "cell_type": "code",
      "metadata": {
        "colab": {
          "resources": {
            "http://localhost:8080/nbextensions/google.colab/files.js": {
              "data": "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",
              "ok": true,
              "headers": [
                [
                  "content-type",
                  "application/javascript"
                ]
              ],
              "status": 200,
              "status_text": ""
            }
          },
          "base_uri": "https://localhost:8080/",
          "height": 76
        },
        "id": "QLqhxVi-Ocbx",
        "outputId": "c8982e02-e8c0-4290-8f53-3f0ad2367f8a"
      },
      "source": [
        "from google.colab import files\n",
        "uploaded = files.upload()\n",
        "filename = list(uploaded.keys())[0]"
      ],
      "execution_count": 4,
      "outputs": [
        {
          "output_type": "display_data",
          "data": {
            "text/html": [
              "\n",
              "     <input type=\"file\" id=\"files-3118b18e-7807-484b-946d-b6f60507600a\" name=\"files[]\" multiple disabled\n",
              "        style=\"border:none\" />\n",
              "     <output id=\"result-3118b18e-7807-484b-946d-b6f60507600a\">\n",
              "      Upload widget is only available when the cell has been executed in the\n",
              "      current browser session. Please rerun this cell to enable.\n",
              "      </output>\n",
              "      <script src=\"/nbextensions/google.colab/files.js\"></script> "
            ],
            "text/plain": [
              "<IPython.core.display.HTML object>"
            ]
          },
          "metadata": {
            "tags": []
          }
        },
        {
          "output_type": "stream",
          "text": [
            "Saving wine.csv to wine.csv\n"
          ],
          "name": "stdout"
        }
      ]
    },
    {
      "cell_type": "code",
      "metadata": {
        "colab": {
          "base_uri": "https://localhost:8080/",
          "height": 204
        },
        "id": "78pUvvStOOC6",
        "outputId": "e478dfdf-110d-49ec-fa71-93f449ea3a9a"
      },
      "source": [
        "import pandas as pd\n",
        "wine = pd.read_csv(filename, header=None)\n",
        "wine.head()"
      ],
      "execution_count": 5,
      "outputs": [
        {
          "output_type": "execute_result",
          "data": {
            "text/html": [
              "<div>\n",
              "<style scoped>\n",
              "    .dataframe tbody tr th:only-of-type {\n",
              "        vertical-align: middle;\n",
              "    }\n",
              "\n",
              "    .dataframe tbody tr th {\n",
              "        vertical-align: top;\n",
              "    }\n",
              "\n",
              "    .dataframe thead th {\n",
              "        text-align: right;\n",
              "    }\n",
              "</style>\n",
              "<table border=\"1\" class=\"dataframe\">\n",
              "  <thead>\n",
              "    <tr style=\"text-align: right;\">\n",
              "      <th></th>\n",
              "      <th>0</th>\n",
              "      <th>1</th>\n",
              "      <th>2</th>\n",
              "      <th>3</th>\n",
              "      <th>4</th>\n",
              "      <th>5</th>\n",
              "      <th>6</th>\n",
              "      <th>7</th>\n",
              "      <th>8</th>\n",
              "      <th>9</th>\n",
              "      <th>10</th>\n",
              "      <th>11</th>\n",
              "      <th>12</th>\n",
              "    </tr>\n",
              "  </thead>\n",
              "  <tbody>\n",
              "    <tr>\n",
              "      <th>0</th>\n",
              "      <td>7.4</td>\n",
              "      <td>0.70</td>\n",
              "      <td>0.00</td>\n",
              "      <td>1.9</td>\n",
              "      <td>0.076</td>\n",
              "      <td>11.0</td>\n",
              "      <td>34.0</td>\n",
              "      <td>0.9978</td>\n",
              "      <td>3.51</td>\n",
              "      <td>0.56</td>\n",
              "      <td>9.4</td>\n",
              "      <td>5</td>\n",
              "      <td>1</td>\n",
              "    </tr>\n",
              "    <tr>\n",
              "      <th>1</th>\n",
              "      <td>7.8</td>\n",
              "      <td>0.88</td>\n",
              "      <td>0.00</td>\n",
              "      <td>2.6</td>\n",
              "      <td>0.098</td>\n",
              "      <td>25.0</td>\n",
              "      <td>67.0</td>\n",
              "      <td>0.9968</td>\n",
              "      <td>3.20</td>\n",
              "      <td>0.68</td>\n",
              "      <td>9.8</td>\n",
              "      <td>5</td>\n",
              "      <td>1</td>\n",
              "    </tr>\n",
              "    <tr>\n",
              "      <th>2</th>\n",
              "      <td>7.8</td>\n",
              "      <td>0.76</td>\n",
              "      <td>0.04</td>\n",
              "      <td>2.3</td>\n",
              "      <td>0.092</td>\n",
              "      <td>15.0</td>\n",
              "      <td>54.0</td>\n",
              "      <td>0.9970</td>\n",
              "      <td>3.26</td>\n",
              "      <td>0.65</td>\n",
              "      <td>9.8</td>\n",
              "      <td>5</td>\n",
              "      <td>1</td>\n",
              "    </tr>\n",
              "    <tr>\n",
              "      <th>3</th>\n",
              "      <td>11.2</td>\n",
              "      <td>0.28</td>\n",
              "      <td>0.56</td>\n",
              "      <td>1.9</td>\n",
              "      <td>0.075</td>\n",
              "      <td>17.0</td>\n",
              "      <td>60.0</td>\n",
              "      <td>0.9980</td>\n",
              "      <td>3.16</td>\n",
              "      <td>0.58</td>\n",
              "      <td>9.8</td>\n",
              "      <td>6</td>\n",
              "      <td>1</td>\n",
              "    </tr>\n",
              "    <tr>\n",
              "      <th>4</th>\n",
              "      <td>7.4</td>\n",
              "      <td>0.70</td>\n",
              "      <td>0.00</td>\n",
              "      <td>1.9</td>\n",
              "      <td>0.076</td>\n",
              "      <td>11.0</td>\n",
              "      <td>34.0</td>\n",
              "      <td>0.9978</td>\n",
              "      <td>3.51</td>\n",
              "      <td>0.56</td>\n",
              "      <td>9.4</td>\n",
              "      <td>5</td>\n",
              "      <td>1</td>\n",
              "    </tr>\n",
              "  </tbody>\n",
              "</table>\n",
              "</div>"
            ],
            "text/plain": [
              "     0     1     2    3      4     5     6       7     8     9    10  11  12\n",
              "0   7.4  0.70  0.00  1.9  0.076  11.0  34.0  0.9978  3.51  0.56  9.4   5   1\n",
              "1   7.8  0.88  0.00  2.6  0.098  25.0  67.0  0.9968  3.20  0.68  9.8   5   1\n",
              "2   7.8  0.76  0.04  2.3  0.092  15.0  54.0  0.9970  3.26  0.65  9.8   5   1\n",
              "3  11.2  0.28  0.56  1.9  0.075  17.0  60.0  0.9980  3.16  0.58  9.8   6   1\n",
              "4   7.4  0.70  0.00  1.9  0.076  11.0  34.0  0.9978  3.51  0.56  9.4   5   1"
            ]
          },
          "metadata": {
            "tags": []
          },
          "execution_count": 5
        }
      ]
    },
    {
      "cell_type": "code",
      "metadata": {
        "id": "Qqag1dctOOC7"
      },
      "source": [
        "from sklearn.preprocessing import MinMaxScaler\n",
        "scaler = MinMaxScaler()\n",
        "X_scaled = scaler.fit_transform(wine.iloc[:,:-1].values)"
      ],
      "execution_count": 8,
      "outputs": []
    },
    {
      "cell_type": "code",
      "metadata": {
        "colab": {
          "base_uri": "https://localhost:8080/"
        },
        "id": "1PeUYOuMOOC7",
        "outputId": "2351b8b1-5175-40d8-b7f5-734d3c97dd41"
      },
      "source": [
        "from sklearn.model_selection import train_test_split\n",
        "X_train, X_test, y_train, y_test = train_test_split(\n",
        "    X_scaled, wine.iloc[:,-1].values, \n",
        "    stratify=wine.iloc[:,-1].values, random_state=seed\n",
        ")\n",
        "X_train.shape, X_test.shape, y_train.shape, y_test.shape"
      ],
      "execution_count": 9,
      "outputs": [
        {
          "output_type": "execute_result",
          "data": {
            "text/plain": [
              "((4872, 12), (1625, 12), (4872,), (1625,))"
            ]
          },
          "metadata": {
            "tags": []
          },
          "execution_count": 9
        }
      ]
    },
    {
      "cell_type": "markdown",
      "metadata": {
        "id": "exclzXQwOOC8"
      },
      "source": [
        "## 모델 정의/설정     "
      ]
    },
    {
      "cell_type": "code",
      "metadata": {
        "id": "TQuHc0L5OOC9"
      },
      "source": [
        "from tensorflow.keras.models import Sequential\n",
        "from tensorflow.keras.layers import Dense"
      ],
      "execution_count": 10,
      "outputs": []
    },
    {
      "cell_type": "code",
      "metadata": {
        "colab": {
          "base_uri": "https://localhost:8080/"
        },
        "id": "6-WqBNYUOOC9",
        "outputId": "3552a21a-73e1-4f9d-b1af-002314382491"
      },
      "source": [
        "model = Sequential([\n",
        "    Dense(30, input_dim=12, activation='relu'),\n",
        "    Dense(12, activation='relu'),\n",
        "    Dense(8, activation='relu'),\n",
        "    Dense(1, activation='sigmoid')\n",
        "])\n",
        "model.summary()"
      ],
      "execution_count": 11,
      "outputs": [
        {
          "output_type": "stream",
          "text": [
            "Model: \"sequential\"\n",
            "_________________________________________________________________\n",
            "Layer (type)                 Output Shape              Param #   \n",
            "=================================================================\n",
            "dense (Dense)                (None, 30)                390       \n",
            "_________________________________________________________________\n",
            "dense_1 (Dense)              (None, 12)                372       \n",
            "_________________________________________________________________\n",
            "dense_2 (Dense)              (None, 8)                 104       \n",
            "_________________________________________________________________\n",
            "dense_3 (Dense)              (None, 1)                 9         \n",
            "=================================================================\n",
            "Total params: 875\n",
            "Trainable params: 875\n",
            "Non-trainable params: 0\n",
            "_________________________________________________________________\n"
          ],
          "name": "stdout"
        }
      ]
    },
    {
      "cell_type": "code",
      "metadata": {
        "id": "9RO6xHboOOC-"
      },
      "source": [
        "model.compile(\n",
        "    optimizer='adam', loss='binary_crossentropy', metrics=['accuracy']\n",
        ")"
      ],
      "execution_count": 12,
      "outputs": []
    },
    {
      "cell_type": "markdown",
      "metadata": {
        "id": "Ltvwlo7gOOC-"
      },
      "source": [
        "## 모델 저장관련 설정"
      ]
    },
    {
      "cell_type": "code",
      "metadata": {
        "id": "Ej_dZxUMOOC_"
      },
      "source": [
        "modelpath = 'model/best_wine_{epoch:03d}_{val_loss:.4f}.h5'\n",
        "# modelpath = 'model/best_wine.h5'"
      ],
      "execution_count": 13,
      "outputs": []
    },
    {
      "cell_type": "code",
      "metadata": {
        "id": "7E_JMit4OOC_"
      },
      "source": [
        "from tensorflow.keras.callbacks import ModelCheckpoint\n",
        "checkpoint = ModelCheckpoint(\n",
        "                    modelpath,     # 모델을 저장할 파일\n",
        "                    monitor='val_loss',     # validation loss를 체크\n",
        "                    verbose=1,\n",
        "                    save_best_only=True     # 베스트 모델만 저장\n",
        ")"
      ],
      "execution_count": 14,
      "outputs": []
    },
    {
      "cell_type": "markdown",
      "metadata": {
        "id": "fir9C6LmOOC_"
      },
      "source": [
        "## 모델 학습 및 저장"
      ]
    },
    {
      "cell_type": "code",
      "metadata": {
        "colab": {
          "base_uri": "https://localhost:8080/"
        },
        "id": "Z6Ihg_TZOODA",
        "outputId": "6e46bef5-f218-4176-dc5f-e6d1a3a54c66"
      },
      "source": [
        "history = model.fit(\n",
        "    X_train, y_train, validation_split=0.2,\n",
        "    epochs=200, batch_size=200, verbose=0,\n",
        "    callbacks=[checkpoint]\n",
        ")"
      ],
      "execution_count": 15,
      "outputs": [
        {
          "output_type": "stream",
          "text": [
            "\n",
            "Epoch 00001: val_loss improved from inf to 0.63452, saving model to model/best_wine_001_0.6345.h5\n",
            "\n",
            "Epoch 00002: val_loss improved from 0.63452 to 0.57737, saving model to model/best_wine_002_0.5774.h5\n",
            "\n",
            "Epoch 00003: val_loss improved from 0.57737 to 0.51327, saving model to model/best_wine_003_0.5133.h5\n",
            "\n",
            "Epoch 00004: val_loss improved from 0.51327 to 0.45118, saving model to model/best_wine_004_0.4512.h5\n",
            "\n",
            "Epoch 00005: val_loss improved from 0.45118 to 0.38812, saving model to model/best_wine_005_0.3881.h5\n",
            "\n",
            "Epoch 00006: val_loss improved from 0.38812 to 0.32422, saving model to model/best_wine_006_0.3242.h5\n",
            "\n",
            "Epoch 00007: val_loss improved from 0.32422 to 0.26086, saving model to model/best_wine_007_0.2609.h5\n",
            "\n",
            "Epoch 00008: val_loss improved from 0.26086 to 0.20673, saving model to model/best_wine_008_0.2067.h5\n",
            "\n",
            "Epoch 00009: val_loss improved from 0.20673 to 0.15826, saving model to model/best_wine_009_0.1583.h5\n",
            "\n",
            "Epoch 00010: val_loss improved from 0.15826 to 0.12070, saving model to model/best_wine_010_0.1207.h5\n",
            "\n",
            "Epoch 00011: val_loss improved from 0.12070 to 0.09141, saving model to model/best_wine_011_0.0914.h5\n",
            "\n",
            "Epoch 00012: val_loss improved from 0.09141 to 0.07345, saving model to model/best_wine_012_0.0734.h5\n",
            "\n",
            "Epoch 00013: val_loss improved from 0.07345 to 0.06349, saving model to model/best_wine_013_0.0635.h5\n",
            "\n",
            "Epoch 00014: val_loss improved from 0.06349 to 0.05796, saving model to model/best_wine_014_0.0580.h5\n",
            "\n",
            "Epoch 00015: val_loss improved from 0.05796 to 0.05307, saving model to model/best_wine_015_0.0531.h5\n",
            "\n",
            "Epoch 00016: val_loss improved from 0.05307 to 0.05035, saving model to model/best_wine_016_0.0504.h5\n",
            "\n",
            "Epoch 00017: val_loss improved from 0.05035 to 0.04710, saving model to model/best_wine_017_0.0471.h5\n",
            "\n",
            "Epoch 00018: val_loss improved from 0.04710 to 0.04535, saving model to model/best_wine_018_0.0454.h5\n",
            "\n",
            "Epoch 00019: val_loss improved from 0.04535 to 0.04446, saving model to model/best_wine_019_0.0445.h5\n",
            "\n",
            "Epoch 00020: val_loss improved from 0.04446 to 0.04275, saving model to model/best_wine_020_0.0428.h5\n",
            "\n",
            "Epoch 00021: val_loss improved from 0.04275 to 0.04160, saving model to model/best_wine_021_0.0416.h5\n",
            "\n",
            "Epoch 00022: val_loss improved from 0.04160 to 0.04086, saving model to model/best_wine_022_0.0409.h5\n",
            "\n",
            "Epoch 00023: val_loss improved from 0.04086 to 0.03952, saving model to model/best_wine_023_0.0395.h5\n",
            "\n",
            "Epoch 00024: val_loss improved from 0.03952 to 0.03903, saving model to model/best_wine_024_0.0390.h5\n",
            "\n",
            "Epoch 00025: val_loss improved from 0.03903 to 0.03889, saving model to model/best_wine_025_0.0389.h5\n",
            "\n",
            "Epoch 00026: val_loss improved from 0.03889 to 0.03798, saving model to model/best_wine_026_0.0380.h5\n",
            "\n",
            "Epoch 00027: val_loss improved from 0.03798 to 0.03782, saving model to model/best_wine_027_0.0378.h5\n",
            "\n",
            "Epoch 00028: val_loss improved from 0.03782 to 0.03726, saving model to model/best_wine_028_0.0373.h5\n",
            "\n",
            "Epoch 00029: val_loss improved from 0.03726 to 0.03620, saving model to model/best_wine_029_0.0362.h5\n",
            "\n",
            "Epoch 00030: val_loss improved from 0.03620 to 0.03602, saving model to model/best_wine_030_0.0360.h5\n",
            "\n",
            "Epoch 00031: val_loss did not improve from 0.03602\n",
            "\n",
            "Epoch 00032: val_loss improved from 0.03602 to 0.03565, saving model to model/best_wine_032_0.0357.h5\n",
            "\n",
            "Epoch 00033: val_loss improved from 0.03565 to 0.03488, saving model to model/best_wine_033_0.0349.h5\n",
            "\n",
            "Epoch 00034: val_loss improved from 0.03488 to 0.03487, saving model to model/best_wine_034_0.0349.h5\n",
            "\n",
            "Epoch 00035: val_loss improved from 0.03487 to 0.03426, saving model to model/best_wine_035_0.0343.h5\n",
            "\n",
            "Epoch 00036: val_loss did not improve from 0.03426\n",
            "\n",
            "Epoch 00037: val_loss improved from 0.03426 to 0.03390, saving model to model/best_wine_037_0.0339.h5\n",
            "\n",
            "Epoch 00038: val_loss did not improve from 0.03390\n",
            "\n",
            "Epoch 00039: val_loss did not improve from 0.03390\n",
            "\n",
            "Epoch 00040: val_loss improved from 0.03390 to 0.03310, saving model to model/best_wine_040_0.0331.h5\n",
            "\n",
            "Epoch 00041: val_loss improved from 0.03310 to 0.03300, saving model to model/best_wine_041_0.0330.h5\n",
            "\n",
            "Epoch 00042: val_loss did not improve from 0.03300\n",
            "\n",
            "Epoch 00043: val_loss improved from 0.03300 to 0.03264, saving model to model/best_wine_043_0.0326.h5\n",
            "\n",
            "Epoch 00044: val_loss did not improve from 0.03264\n",
            "\n",
            "Epoch 00045: val_loss improved from 0.03264 to 0.03223, saving model to model/best_wine_045_0.0322.h5\n",
            "\n",
            "Epoch 00046: val_loss did not improve from 0.03223\n",
            "\n",
            "Epoch 00047: val_loss improved from 0.03223 to 0.03196, saving model to model/best_wine_047_0.0320.h5\n",
            "\n",
            "Epoch 00048: val_loss did not improve from 0.03196\n",
            "\n",
            "Epoch 00049: val_loss did not improve from 0.03196\n",
            "\n",
            "Epoch 00050: val_loss improved from 0.03196 to 0.03167, saving model to model/best_wine_050_0.0317.h5\n",
            "\n",
            "Epoch 00051: val_loss did not improve from 0.03167\n",
            "\n",
            "Epoch 00052: val_loss improved from 0.03167 to 0.03164, saving model to model/best_wine_052_0.0316.h5\n",
            "\n",
            "Epoch 00053: val_loss improved from 0.03164 to 0.03098, saving model to model/best_wine_053_0.0310.h5\n",
            "\n",
            "Epoch 00054: val_loss improved from 0.03098 to 0.03094, saving model to model/best_wine_054_0.0309.h5\n",
            "\n",
            "Epoch 00055: val_loss improved from 0.03094 to 0.03082, saving model to model/best_wine_055_0.0308.h5\n",
            "\n",
            "Epoch 00056: val_loss did not improve from 0.03082\n",
            "\n",
            "Epoch 00057: val_loss did not improve from 0.03082\n",
            "\n",
            "Epoch 00058: val_loss improved from 0.03082 to 0.03043, saving model to model/best_wine_058_0.0304.h5\n",
            "\n",
            "Epoch 00059: val_loss did not improve from 0.03043\n",
            "\n",
            "Epoch 00060: val_loss did not improve from 0.03043\n",
            "\n",
            "Epoch 00061: val_loss improved from 0.03043 to 0.03022, saving model to model/best_wine_061_0.0302.h5\n",
            "\n",
            "Epoch 00062: val_loss did not improve from 0.03022\n",
            "\n",
            "Epoch 00063: val_loss did not improve from 0.03022\n",
            "\n",
            "Epoch 00064: val_loss did not improve from 0.03022\n",
            "\n",
            "Epoch 00065: val_loss did not improve from 0.03022\n",
            "\n",
            "Epoch 00066: val_loss improved from 0.03022 to 0.03009, saving model to model/best_wine_066_0.0301.h5\n",
            "\n",
            "Epoch 00067: val_loss improved from 0.03009 to 0.03009, saving model to model/best_wine_067_0.0301.h5\n",
            "\n",
            "Epoch 00068: val_loss did not improve from 0.03009\n",
            "\n",
            "Epoch 00069: val_loss did not improve from 0.03009\n",
            "\n",
            "Epoch 00070: val_loss did not improve from 0.03009\n",
            "\n",
            "Epoch 00071: val_loss improved from 0.03009 to 0.02966, saving model to model/best_wine_071_0.0297.h5\n",
            "\n",
            "Epoch 00072: val_loss did not improve from 0.02966\n",
            "\n",
            "Epoch 00073: val_loss did not improve from 0.02966\n",
            "\n",
            "Epoch 00074: val_loss did not improve from 0.02966\n",
            "\n",
            "Epoch 00075: val_loss did not improve from 0.02966\n",
            "\n",
            "Epoch 00076: val_loss improved from 0.02966 to 0.02954, saving model to model/best_wine_076_0.0295.h5\n",
            "\n",
            "Epoch 00077: val_loss did not improve from 0.02954\n",
            "\n",
            "Epoch 00078: val_loss did not improve from 0.02954\n",
            "\n",
            "Epoch 00079: val_loss did not improve from 0.02954\n",
            "\n",
            "Epoch 00080: val_loss did not improve from 0.02954\n",
            "\n",
            "Epoch 00081: val_loss improved from 0.02954 to 0.02924, saving model to model/best_wine_081_0.0292.h5\n",
            "\n",
            "Epoch 00082: val_loss did not improve from 0.02924\n",
            "\n",
            "Epoch 00083: val_loss did not improve from 0.02924\n",
            "\n",
            "Epoch 00084: val_loss did not improve from 0.02924\n",
            "\n",
            "Epoch 00085: val_loss did not improve from 0.02924\n",
            "\n",
            "Epoch 00086: val_loss did not improve from 0.02924\n",
            "\n",
            "Epoch 00087: val_loss did not improve from 0.02924\n",
            "\n",
            "Epoch 00088: val_loss did not improve from 0.02924\n",
            "\n",
            "Epoch 00089: val_loss did not improve from 0.02924\n",
            "\n",
            "Epoch 00090: val_loss did not improve from 0.02924\n",
            "\n",
            "Epoch 00091: val_loss did not improve from 0.02924\n",
            "\n",
            "Epoch 00092: val_loss did not improve from 0.02924\n",
            "\n",
            "Epoch 00093: val_loss did not improve from 0.02924\n",
            "\n",
            "Epoch 00094: val_loss improved from 0.02924 to 0.02922, saving model to model/best_wine_094_0.0292.h5\n",
            "\n",
            "Epoch 00095: val_loss improved from 0.02922 to 0.02919, saving model to model/best_wine_095_0.0292.h5\n",
            "\n",
            "Epoch 00096: val_loss did not improve from 0.02919\n",
            "\n",
            "Epoch 00097: val_loss improved from 0.02919 to 0.02903, saving model to model/best_wine_097_0.0290.h5\n",
            "\n",
            "Epoch 00098: val_loss did not improve from 0.02903\n",
            "\n",
            "Epoch 00099: val_loss did not improve from 0.02903\n",
            "\n",
            "Epoch 00100: val_loss improved from 0.02903 to 0.02903, saving model to model/best_wine_100_0.0290.h5\n",
            "\n",
            "Epoch 00101: val_loss did not improve from 0.02903\n",
            "\n",
            "Epoch 00102: val_loss did not improve from 0.02903\n",
            "\n",
            "Epoch 00103: val_loss improved from 0.02903 to 0.02902, saving model to model/best_wine_103_0.0290.h5\n",
            "\n",
            "Epoch 00104: val_loss did not improve from 0.02902\n",
            "\n",
            "Epoch 00105: val_loss did not improve from 0.02902\n",
            "\n",
            "Epoch 00106: val_loss improved from 0.02902 to 0.02891, saving model to model/best_wine_106_0.0289.h5\n",
            "\n",
            "Epoch 00107: val_loss improved from 0.02891 to 0.02875, saving model to model/best_wine_107_0.0288.h5\n",
            "\n",
            "Epoch 00108: val_loss did not improve from 0.02875\n",
            "\n",
            "Epoch 00109: val_loss did not improve from 0.02875\n",
            "\n",
            "Epoch 00110: val_loss did not improve from 0.02875\n",
            "\n",
            "Epoch 00111: val_loss did not improve from 0.02875\n",
            "\n",
            "Epoch 00112: val_loss did not improve from 0.02875\n",
            "\n",
            "Epoch 00113: val_loss did not improve from 0.02875\n",
            "\n",
            "Epoch 00114: val_loss did not improve from 0.02875\n",
            "\n",
            "Epoch 00115: val_loss did not improve from 0.02875\n",
            "\n",
            "Epoch 00116: val_loss did not improve from 0.02875\n",
            "\n",
            "Epoch 00117: val_loss improved from 0.02875 to 0.02874, saving model to model/best_wine_117_0.0287.h5\n",
            "\n",
            "Epoch 00118: val_loss did not improve from 0.02874\n",
            "\n",
            "Epoch 00119: val_loss improved from 0.02874 to 0.02862, saving model to model/best_wine_119_0.0286.h5\n",
            "\n",
            "Epoch 00120: val_loss did not improve from 0.02862\n",
            "\n",
            "Epoch 00121: val_loss did not improve from 0.02862\n",
            "\n",
            "Epoch 00122: val_loss did not improve from 0.02862\n",
            "\n",
            "Epoch 00123: val_loss improved from 0.02862 to 0.02854, saving model to model/best_wine_123_0.0285.h5\n",
            "\n",
            "Epoch 00124: val_loss did not improve from 0.02854\n",
            "\n",
            "Epoch 00125: val_loss did not improve from 0.02854\n",
            "\n",
            "Epoch 00126: val_loss improved from 0.02854 to 0.02823, saving model to model/best_wine_126_0.0282.h5\n",
            "\n",
            "Epoch 00127: val_loss did not improve from 0.02823\n",
            "\n",
            "Epoch 00128: val_loss did not improve from 0.02823\n",
            "\n",
            "Epoch 00129: val_loss did not improve from 0.02823\n",
            "\n",
            "Epoch 00130: val_loss did not improve from 0.02823\n",
            "\n",
            "Epoch 00131: val_loss did not improve from 0.02823\n",
            "\n",
            "Epoch 00132: val_loss did not improve from 0.02823\n",
            "\n",
            "Epoch 00133: val_loss did not improve from 0.02823\n",
            "\n",
            "Epoch 00134: val_loss did not improve from 0.02823\n",
            "\n",
            "Epoch 00135: val_loss did not improve from 0.02823\n",
            "\n",
            "Epoch 00136: val_loss did not improve from 0.02823\n",
            "\n",
            "Epoch 00137: val_loss did not improve from 0.02823\n",
            "\n",
            "Epoch 00138: val_loss did not improve from 0.02823\n",
            "\n",
            "Epoch 00139: val_loss did not improve from 0.02823\n",
            "\n",
            "Epoch 00140: val_loss did not improve from 0.02823\n",
            "\n",
            "Epoch 00141: val_loss improved from 0.02823 to 0.02818, saving model to model/best_wine_141_0.0282.h5\n",
            "\n",
            "Epoch 00142: val_loss did not improve from 0.02818\n",
            "\n",
            "Epoch 00143: val_loss did not improve from 0.02818\n",
            "\n",
            "Epoch 00144: val_loss did not improve from 0.02818\n",
            "\n",
            "Epoch 00145: val_loss did not improve from 0.02818\n",
            "\n",
            "Epoch 00146: val_loss did not improve from 0.02818\n",
            "\n",
            "Epoch 00147: val_loss did not improve from 0.02818\n",
            "\n",
            "Epoch 00148: val_loss did not improve from 0.02818\n",
            "\n",
            "Epoch 00149: val_loss did not improve from 0.02818\n",
            "\n",
            "Epoch 00150: val_loss did not improve from 0.02818\n",
            "\n",
            "Epoch 00151: val_loss did not improve from 0.02818\n",
            "\n",
            "Epoch 00152: val_loss did not improve from 0.02818\n",
            "\n",
            "Epoch 00153: val_loss did not improve from 0.02818\n",
            "\n",
            "Epoch 00154: val_loss did not improve from 0.02818\n",
            "\n",
            "Epoch 00155: val_loss did not improve from 0.02818\n",
            "\n",
            "Epoch 00156: val_loss did not improve from 0.02818\n",
            "\n",
            "Epoch 00157: val_loss did not improve from 0.02818\n",
            "\n",
            "Epoch 00158: val_loss did not improve from 0.02818\n",
            "\n",
            "Epoch 00159: val_loss did not improve from 0.02818\n",
            "\n",
            "Epoch 00160: val_loss did not improve from 0.02818\n",
            "\n",
            "Epoch 00161: val_loss did not improve from 0.02818\n",
            "\n",
            "Epoch 00162: val_loss did not improve from 0.02818\n",
            "\n",
            "Epoch 00163: val_loss did not improve from 0.02818\n",
            "\n",
            "Epoch 00164: val_loss did not improve from 0.02818\n",
            "\n",
            "Epoch 00165: val_loss did not improve from 0.02818\n",
            "\n",
            "Epoch 00166: val_loss did not improve from 0.02818\n",
            "\n",
            "Epoch 00167: val_loss did not improve from 0.02818\n",
            "\n",
            "Epoch 00168: val_loss did not improve from 0.02818\n",
            "\n",
            "Epoch 00169: val_loss did not improve from 0.02818\n",
            "\n",
            "Epoch 00170: val_loss did not improve from 0.02818\n",
            "\n",
            "Epoch 00171: val_loss did not improve from 0.02818\n",
            "\n",
            "Epoch 00172: val_loss did not improve from 0.02818\n",
            "\n",
            "Epoch 00173: val_loss did not improve from 0.02818\n",
            "\n",
            "Epoch 00174: val_loss did not improve from 0.02818\n",
            "\n",
            "Epoch 00175: val_loss did not improve from 0.02818\n",
            "\n",
            "Epoch 00176: val_loss did not improve from 0.02818\n",
            "\n",
            "Epoch 00177: val_loss did not improve from 0.02818\n",
            "\n",
            "Epoch 00178: val_loss did not improve from 0.02818\n",
            "\n",
            "Epoch 00179: val_loss did not improve from 0.02818\n",
            "\n",
            "Epoch 00180: val_loss did not improve from 0.02818\n",
            "\n",
            "Epoch 00181: val_loss did not improve from 0.02818\n",
            "\n",
            "Epoch 00182: val_loss did not improve from 0.02818\n",
            "\n",
            "Epoch 00183: val_loss did not improve from 0.02818\n",
            "\n",
            "Epoch 00184: val_loss did not improve from 0.02818\n",
            "\n",
            "Epoch 00185: val_loss did not improve from 0.02818\n",
            "\n",
            "Epoch 00186: val_loss did not improve from 0.02818\n",
            "\n",
            "Epoch 00187: val_loss did not improve from 0.02818\n",
            "\n",
            "Epoch 00188: val_loss did not improve from 0.02818\n",
            "\n",
            "Epoch 00189: val_loss did not improve from 0.02818\n",
            "\n",
            "Epoch 00190: val_loss did not improve from 0.02818\n",
            "\n",
            "Epoch 00191: val_loss did not improve from 0.02818\n",
            "\n",
            "Epoch 00192: val_loss did not improve from 0.02818\n",
            "\n",
            "Epoch 00193: val_loss did not improve from 0.02818\n",
            "\n",
            "Epoch 00194: val_loss did not improve from 0.02818\n",
            "\n",
            "Epoch 00195: val_loss did not improve from 0.02818\n",
            "\n",
            "Epoch 00196: val_loss did not improve from 0.02818\n",
            "\n",
            "Epoch 00197: val_loss did not improve from 0.02818\n",
            "\n",
            "Epoch 00198: val_loss did not improve from 0.02818\n",
            "\n",
            "Epoch 00199: val_loss did not improve from 0.02818\n",
            "\n",
            "Epoch 00200: val_loss did not improve from 0.02818\n"
          ],
          "name": "stdout"
        }
      ]
    },
    {
      "cell_type": "markdown",
      "metadata": {
        "id": "rGUQbBMIOODA"
      },
      "source": [
        "## 평가는 베스트 모델로 해야 함 "
      ]
    },
    {
      "cell_type": "code",
      "metadata": {
        "id": "soxl4IEcOODA"
      },
      "source": [
        "from tensorflow.keras.models import load_model\n",
        "best_model = load_model('model/best_wine_141_0.0282.h5')"
      ],
      "execution_count": 16,
      "outputs": []
    },
    {
      "cell_type": "code",
      "metadata": {
        "colab": {
          "base_uri": "https://localhost:8080/"
        },
        "id": "LUJYTWosOODB",
        "outputId": "5dc7522c-4fd4-4842-b017-de18194495da"
      },
      "source": [
        "best_model.evaluate(X_test, y_test)"
      ],
      "execution_count": 17,
      "outputs": [
        {
          "output_type": "stream",
          "text": [
            "51/51 [==============================] - 0s 1ms/step - loss: 0.0271 - accuracy: 0.9920\n"
          ],
          "name": "stdout"
        },
        {
          "output_type": "execute_result",
          "data": {
            "text/plain": [
              "[0.027061833068728447, 0.9919999837875366]"
            ]
          },
          "metadata": {
            "tags": []
          },
          "execution_count": 17
        }
      ]
    },
    {
      "cell_type": "markdown",
      "metadata": {
        "id": "RapN7tbyOODB"
      },
      "source": [
        "## 훈련과정 시각화"
      ]
    },
    {
      "cell_type": "code",
      "metadata": {
        "id": "VLgBSCueOODB"
      },
      "source": [
        "import matplotlib.pyplot as plt\n",
        "%matplotlib inline"
      ],
      "execution_count": 18,
      "outputs": []
    },
    {
      "cell_type": "code",
      "metadata": {
        "id": "KZ_zCzqEOODB"
      },
      "source": [
        "y_acc = history.history['accuracy']\n",
        "y_loss = history.history['loss']\n",
        "y_vacc = history.history['val_accuracy']\n",
        "y_vloss = history.history['val_loss']"
      ],
      "execution_count": 19,
      "outputs": []
    },
    {
      "cell_type": "code",
      "metadata": {
        "colab": {
          "base_uri": "https://localhost:8080/",
          "height": 483
        },
        "id": "refgRY29OODC",
        "outputId": "64dc0284-041f-4a11-bb40-a9bd665025d4"
      },
      "source": [
        "plt.figure(figsize=(12,8))\n",
        "plt.plot(x_len, y_acc, 'bo-', markersize=2, label='accuracy')\n",
        "plt.plot(x_len, y_vacc, 'mo-', markersize=2, label='val_accuracy')\n",
        "plt.plot(x_len, y_vloss, 'ro-', markersize=2, label='val_loss')\n",
        "plt.plot(x_len, y_loss, 'go-', markersize=2, label='loss')\n",
        "plt.legend()\n",
        "plt.show()"
      ],
      "execution_count": 21,
      "outputs": [
        {
          "output_type": "display_data",
          "data": {
            "image/png": "[encoded data removed]",
            "text/plain": [
              "<Figure size 864x576 with 1 Axes>"
            ]
          },
          "metadata": {
            "tags": [],
            "needs_background": "light"
          }
        }
      ]
    }
  ]
}