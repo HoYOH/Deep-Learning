{
  "nbformat": 4,
  "nbformat_minor": 0,
  "metadata": {
    "interpreter": {
      "hash": "c81169c30fb96244cfba0db287a0d3fd5325268de070a7a6116eecd4596df902"
    },
    "kernelspec": {
      "display_name": "Python 3.8.8 64-bit ('base': conda)",
      "name": "python3"
    },
    "language_info": {
      "codemirror_mode": {
        "name": "ipython",
        "version": 3
      },
      "file_extension": ".py",
      "mimetype": "text/x-python",
      "name": "python",
      "nbconvert_exporter": "python",
      "pygments_lexer": "ipython3",
      "version": "3.8.8"
    },
    "orig_nbformat": 4,
    "colab": {
      "name": "01_ThoraricSurgery.ipynb",
      "provenance": [],
      "include_colab_link": true
    }
  },
  "cells": [
    {
      "cell_type": "markdown",
      "metadata": {
        "id": "view-in-github",
        "colab_type": "text"
      },
      "source": [
        "<a href=\"https://colab.research.google.com/github/HoYOH/Deep-Learning/blob/main/01_ThoraricSurgery.ipynb\" target=\"_parent\"><img src=\"https://colab.research.google.com/assets/colab-badge.svg\" alt=\"Open In Colab\"/></a>"
      ]
    },
    {
      "cell_type": "markdown",
      "metadata": {
        "id": "3WWd5KzeFmxo"
      },
      "source": [
        "# 폐병 환자 수술 (Thoraric Surgery)"
      ]
    },
    {
      "cell_type": "code",
      "metadata": {
        "id": "DGlLQcJaFmxq"
      },
      "source": [
        "import numpy as np\n",
        "import pandas as pd"
      ],
      "execution_count": null,
      "outputs": []
    },
    {
      "cell_type": "code",
      "metadata": {
        "id": "7FEZF1FaFmxr",
        "outputId": "f4ec1ec0-46ae-470f-a17f-e98146709031"
      },
      "source": [
        "\n",
        "df = pd.read_csv('C:/workspace/deeplearning/dataset/ThoraricSurgery.csv', header=None)\n",
        "df.head()"
      ],
      "execution_count": null,
      "outputs": [
        {
          "output_type": "execute_result",
          "data": {
            "text/html": [
              "<div>\n",
              "<style scoped>\n",
              "    .dataframe tbody tr th:only-of-type {\n",
              "        vertical-align: middle;\n",
              "    }\n",
              "\n",
              "    .dataframe tbody tr th {\n",
              "        vertical-align: top;\n",
              "    }\n",
              "\n",
              "    .dataframe thead th {\n",
              "        text-align: right;\n",
              "    }\n",
              "</style>\n",
              "<table border=\"1\" class=\"dataframe\">\n",
              "  <thead>\n",
              "    <tr style=\"text-align: right;\">\n",
              "      <th></th>\n",
              "      <th>0</th>\n",
              "      <th>1</th>\n",
              "      <th>2</th>\n",
              "      <th>3</th>\n",
              "      <th>4</th>\n",
              "      <th>5</th>\n",
              "      <th>6</th>\n",
              "      <th>7</th>\n",
              "      <th>8</th>\n",
              "      <th>9</th>\n",
              "      <th>10</th>\n",
              "      <th>11</th>\n",
              "      <th>12</th>\n",
              "      <th>13</th>\n",
              "      <th>14</th>\n",
              "      <th>15</th>\n",
              "      <th>16</th>\n",
              "      <th>17</th>\n",
              "    </tr>\n",
              "  </thead>\n",
              "  <tbody>\n",
              "    <tr>\n",
              "      <th>0</th>\n",
              "      <td>293</td>\n",
              "      <td>1</td>\n",
              "      <td>3.80</td>\n",
              "      <td>2.80</td>\n",
              "      <td>0</td>\n",
              "      <td>0</td>\n",
              "      <td>0</td>\n",
              "      <td>0</td>\n",
              "      <td>0</td>\n",
              "      <td>0</td>\n",
              "      <td>12</td>\n",
              "      <td>0</td>\n",
              "      <td>0</td>\n",
              "      <td>0</td>\n",
              "      <td>1</td>\n",
              "      <td>0</td>\n",
              "      <td>62</td>\n",
              "      <td>0</td>\n",
              "    </tr>\n",
              "    <tr>\n",
              "      <th>1</th>\n",
              "      <td>1</td>\n",
              "      <td>2</td>\n",
              "      <td>2.88</td>\n",
              "      <td>2.16</td>\n",
              "      <td>1</td>\n",
              "      <td>0</td>\n",
              "      <td>0</td>\n",
              "      <td>0</td>\n",
              "      <td>1</td>\n",
              "      <td>1</td>\n",
              "      <td>14</td>\n",
              "      <td>0</td>\n",
              "      <td>0</td>\n",
              "      <td>0</td>\n",
              "      <td>1</td>\n",
              "      <td>0</td>\n",
              "      <td>60</td>\n",
              "      <td>0</td>\n",
              "    </tr>\n",
              "    <tr>\n",
              "      <th>2</th>\n",
              "      <td>8</td>\n",
              "      <td>2</td>\n",
              "      <td>3.19</td>\n",
              "      <td>2.50</td>\n",
              "      <td>1</td>\n",
              "      <td>0</td>\n",
              "      <td>0</td>\n",
              "      <td>0</td>\n",
              "      <td>1</td>\n",
              "      <td>0</td>\n",
              "      <td>11</td>\n",
              "      <td>0</td>\n",
              "      <td>0</td>\n",
              "      <td>1</td>\n",
              "      <td>1</td>\n",
              "      <td>0</td>\n",
              "      <td>66</td>\n",
              "      <td>1</td>\n",
              "    </tr>\n",
              "    <tr>\n",
              "      <th>3</th>\n",
              "      <td>14</td>\n",
              "      <td>2</td>\n",
              "      <td>3.98</td>\n",
              "      <td>3.06</td>\n",
              "      <td>2</td>\n",
              "      <td>0</td>\n",
              "      <td>0</td>\n",
              "      <td>0</td>\n",
              "      <td>1</td>\n",
              "      <td>1</td>\n",
              "      <td>14</td>\n",
              "      <td>0</td>\n",
              "      <td>0</td>\n",
              "      <td>0</td>\n",
              "      <td>1</td>\n",
              "      <td>0</td>\n",
              "      <td>80</td>\n",
              "      <td>1</td>\n",
              "    </tr>\n",
              "    <tr>\n",
              "      <th>4</th>\n",
              "      <td>17</td>\n",
              "      <td>2</td>\n",
              "      <td>2.21</td>\n",
              "      <td>1.88</td>\n",
              "      <td>0</td>\n",
              "      <td>0</td>\n",
              "      <td>1</td>\n",
              "      <td>0</td>\n",
              "      <td>0</td>\n",
              "      <td>0</td>\n",
              "      <td>12</td>\n",
              "      <td>0</td>\n",
              "      <td>0</td>\n",
              "      <td>0</td>\n",
              "      <td>1</td>\n",
              "      <td>0</td>\n",
              "      <td>56</td>\n",
              "      <td>0</td>\n",
              "    </tr>\n",
              "  </tbody>\n",
              "</table>\n",
              "</div>"
            ],
            "text/plain": [
              "    0   1     2     3   4   5   6   7   8   9   10  11  12  13  14  15  16  17\n",
              "0  293   1  3.80  2.80   0   0   0   0   0   0  12   0   0   0   1   0  62   0\n",
              "1    1   2  2.88  2.16   1   0   0   0   1   1  14   0   0   0   1   0  60   0\n",
              "2    8   2  3.19  2.50   1   0   0   0   1   0  11   0   0   1   1   0  66   1\n",
              "3   14   2  3.98  3.06   2   0   0   0   1   1  14   0   0   0   1   0  80   1\n",
              "4   17   2  2.21  1.88   0   0   1   0   0   0  12   0   0   0   1   0  56   0"
            ]
          },
          "metadata": {
            "tags": []
          },
          "execution_count": 2
        }
      ]
    },
    {
      "cell_type": "markdown",
      "metadata": {
        "id": "lNd270M3Fmxs"
      },
      "source": [
        "## 데이터 셋 만들기"
      ]
    },
    {
      "cell_type": "code",
      "metadata": {
        "id": "7D-WFp8sFmxs",
        "outputId": "3e77038a-e242-4446-d122-cb9036b6e370"
      },
      "source": [
        "from sklearn.model_selection import train_test_split\n",
        "X_train, X_test, y_train, y_test = train_test_split(\n",
        "    df.iloc[:,:-1].values, df.iloc[:,-1].values,\n",
        "    stratify=df.iloc[:,-1].values, random_state=2021\n",
        ")\n",
        "X_train.shape, X_test.shape, y_train.shape, y_test.shape"
      ],
      "execution_count": null,
      "outputs": [
        {
          "output_type": "execute_result",
          "data": {
            "text/plain": [
              "((352, 17), (118, 17), (352,), (118,))"
            ]
          },
          "metadata": {
            "tags": []
          },
          "execution_count": 3
        }
      ]
    },
    {
      "cell_type": "markdown",
      "metadata": {
        "id": "CA3georpFmxt"
      },
      "source": [
        "## 모델 정의"
      ]
    },
    {
      "cell_type": "code",
      "metadata": {
        "id": "ibXS-IitFmxt"
      },
      "source": [
        "import tensorflow as tf \n",
        "seed = 2021\n",
        "np.random.seed(seed)\n",
        "tf.random.set_seed(seed)"
      ],
      "execution_count": null,
      "outputs": []
    },
    {
      "cell_type": "code",
      "metadata": {
        "id": "BhmvIIj4Fmxt"
      },
      "source": [
        "from tensorflow.keras.models import Sequential\n",
        "from tensorflow.keras.layers import Dense"
      ],
      "execution_count": null,
      "outputs": []
    },
    {
      "cell_type": "code",
      "metadata": {
        "id": "KCzcY2mOFmxu",
        "outputId": "33a2c04a-9b08-4142-a0b3-d22c96baf6be"
      },
      "source": [
        "model = Sequential()\n",
        "model.add(Dense(30, input_shape=(17,), activation='relu'))\n",
        "model.add(Dense(1, activation='sigmoid'))\n",
        "model.summary()"
      ],
      "execution_count": null,
      "outputs": [
        {
          "output_type": "stream",
          "text": [
            "Model: \"sequential\"\n",
            "_________________________________________________________________\n",
            "Layer (type)                 Output Shape              Param #   \n",
            "=================================================================\n",
            "dense (Dense)                (None, 30)                540       \n",
            "_________________________________________________________________\n",
            "dense_1 (Dense)              (None, 1)                 31        \n",
            "=================================================================\n",
            "Total params: 571\n",
            "Trainable params: 571\n",
            "Non-trainable params: 0\n",
            "_________________________________________________________________\n"
          ],
          "name": "stdout"
        }
      ]
    },
    {
      "cell_type": "markdown",
      "metadata": {
        "id": "x4qAFLDJFmxu"
      },
      "source": [
        "## 모델 컴파일 - 실행환경 설정"
      ]
    },
    {
      "cell_type": "code",
      "metadata": {
        "id": "_uZsQhwpFmxu"
      },
      "source": [
        "model.compile(\n",
        "    loss='binary_crossentropy',\n",
        "    optimizer='adam',\n",
        "    metrics=['accuracy']\n",
        ")"
      ],
      "execution_count": null,
      "outputs": []
    },
    {
      "cell_type": "markdown",
      "metadata": {
        "id": "Tq3D6w9_Fmxv"
      },
      "source": [
        "## 모델 학습"
      ]
    },
    {
      "cell_type": "code",
      "metadata": {
        "id": "9PnwBS43Fmxv",
        "outputId": "1a89c3a1-46c9-4c76-8049-e3ac4752939b"
      },
      "source": [
        "model.fit(\n",
        "    X_train, y_train, \n",
        "    validation_split=0.2,\n",
        "    epochs=30,\n",
        "    batch_size=30\n",
        ")"
      ],
      "execution_count": null,
      "outputs": [
        {
          "output_type": "stream",
          "text": [
            "Epoch 1/30\n",
            "10/10 [==============================] - 0s 18ms/step - loss: 6.7747 - accuracy: 0.2847 - val_loss: 2.7294 - val_accuracy: 0.6338\n",
            "Epoch 2/30\n",
            "10/10 [==============================] - 0s 2ms/step - loss: 2.2952 - accuracy: 0.6940 - val_loss: 2.9131 - val_accuracy: 0.6901\n",
            "Epoch 3/30\n",
            "10/10 [==============================] - 0s 2ms/step - loss: 1.9590 - accuracy: 0.7865 - val_loss: 2.7423 - val_accuracy: 0.7042\n",
            "Epoch 4/30\n",
            "10/10 [==============================] - 0s 2ms/step - loss: 1.7152 - accuracy: 0.8185 - val_loss: 2.1955 - val_accuracy: 0.7183\n",
            "Epoch 5/30\n",
            "10/10 [==============================] - 0s 2ms/step - loss: 1.2688 - accuracy: 0.8185 - val_loss: 1.3525 - val_accuracy: 0.7183\n",
            "Epoch 6/30\n",
            "10/10 [==============================] - 0s 3ms/step - loss: 0.7266 - accuracy: 0.8114 - val_loss: 0.7041 - val_accuracy: 0.7183\n",
            "Epoch 7/30\n",
            "10/10 [==============================] - 0s 5ms/step - loss: 0.5289 - accuracy: 0.8007 - val_loss: 0.6523 - val_accuracy: 0.7324\n",
            "Epoch 8/30\n",
            "10/10 [==============================] - 0s 4ms/step - loss: 0.4558 - accuracy: 0.8505 - val_loss: 0.6818 - val_accuracy: 0.7606\n",
            "Epoch 9/30\n",
            "10/10 [==============================] - 0s 3ms/step - loss: 0.4529 - accuracy: 0.8577 - val_loss: 0.6435 - val_accuracy: 0.7606\n",
            "Epoch 10/30\n",
            "10/10 [==============================] - 0s 2ms/step - loss: 0.4392 - accuracy: 0.8577 - val_loss: 0.6561 - val_accuracy: 0.7606\n",
            "Epoch 11/30\n",
            "10/10 [==============================] - 0s 4ms/step - loss: 0.4271 - accuracy: 0.8577 - val_loss: 0.6352 - val_accuracy: 0.7606\n",
            "Epoch 12/30\n",
            "10/10 [==============================] - 0s 4ms/step - loss: 0.4230 - accuracy: 0.8577 - val_loss: 0.6267 - val_accuracy: 0.7606\n",
            "Epoch 13/30\n",
            "10/10 [==============================] - 0s 3ms/step - loss: 0.4219 - accuracy: 0.8577 - val_loss: 0.6742 - val_accuracy: 0.7606\n",
            "Epoch 14/30\n",
            "10/10 [==============================] - 0s 3ms/step - loss: 0.4375 - accuracy: 0.8577 - val_loss: 0.6126 - val_accuracy: 0.7746\n",
            "Epoch 15/30\n",
            "10/10 [==============================] - 0s 2ms/step - loss: 0.4122 - accuracy: 0.8577 - val_loss: 0.6148 - val_accuracy: 0.7746\n",
            "Epoch 16/30\n",
            "10/10 [==============================] - 0s 3ms/step - loss: 0.4085 - accuracy: 0.8577 - val_loss: 0.6109 - val_accuracy: 0.7746\n",
            "Epoch 17/30\n",
            "10/10 [==============================] - 0s 2ms/step - loss: 0.4091 - accuracy: 0.8577 - val_loss: 0.6540 - val_accuracy: 0.7746\n",
            "Epoch 18/30\n",
            "10/10 [==============================] - 0s 3ms/step - loss: 0.4328 - accuracy: 0.8577 - val_loss: 0.5950 - val_accuracy: 0.7606\n",
            "Epoch 19/30\n",
            "10/10 [==============================] - 0s 3ms/step - loss: 0.4165 - accuracy: 0.8577 - val_loss: 0.6534 - val_accuracy: 0.7746\n",
            "Epoch 20/30\n",
            "10/10 [==============================] - 0s 3ms/step - loss: 0.4043 - accuracy: 0.8577 - val_loss: 0.5927 - val_accuracy: 0.7746\n",
            "Epoch 21/30\n",
            "10/10 [==============================] - 0s 3ms/step - loss: 0.3970 - accuracy: 0.8541 - val_loss: 0.6230 - val_accuracy: 0.7887\n",
            "Epoch 22/30\n",
            "10/10 [==============================] - 0s 3ms/step - loss: 0.4093 - accuracy: 0.8612 - val_loss: 0.5920 - val_accuracy: 0.7746\n",
            "Epoch 23/30\n",
            "10/10 [==============================] - 0s 3ms/step - loss: 0.4273 - accuracy: 0.8577 - val_loss: 0.6492 - val_accuracy: 0.7887\n",
            "Epoch 24/30\n",
            "10/10 [==============================] - 0s 3ms/step - loss: 0.3992 - accuracy: 0.8577 - val_loss: 0.6011 - val_accuracy: 0.7887\n",
            "Epoch 25/30\n",
            "10/10 [==============================] - 0s 3ms/step - loss: 0.4061 - accuracy: 0.8612 - val_loss: 0.5882 - val_accuracy: 0.7746\n",
            "Epoch 26/30\n",
            "10/10 [==============================] - 0s 4ms/step - loss: 0.4001 - accuracy: 0.8612 - val_loss: 0.5879 - val_accuracy: 0.7887\n",
            "Epoch 27/30\n",
            "10/10 [==============================] - 0s 3ms/step - loss: 0.3904 - accuracy: 0.8612 - val_loss: 0.5851 - val_accuracy: 0.7887\n",
            "Epoch 28/30\n",
            "10/10 [==============================] - 0s 3ms/step - loss: 0.3882 - accuracy: 0.8612 - val_loss: 0.6280 - val_accuracy: 0.7887\n",
            "Epoch 29/30\n",
            "10/10 [==============================] - 0s 2ms/step - loss: 0.3900 - accuracy: 0.8612 - val_loss: 0.5918 - val_accuracy: 0.7746\n",
            "Epoch 30/30\n",
            "10/10 [==============================] - 0s 2ms/step - loss: 0.3971 - accuracy: 0.8612 - val_loss: 0.6224 - val_accuracy: 0.7887\n"
          ],
          "name": "stdout"
        },
        {
          "output_type": "execute_result",
          "data": {
            "text/plain": [
              "<tensorflow.python.keras.callbacks.History at 0x1a7101ba160>"
            ]
          },
          "metadata": {
            "tags": []
          },
          "execution_count": 8
        }
      ]
    },
    {
      "cell_type": "markdown",
      "metadata": {
        "id": "ig3oJ4vYFmxw"
      },
      "source": [
        "## 정확도 평가"
      ]
    },
    {
      "cell_type": "code",
      "metadata": {
        "id": "rv-Rvv7-Fmxw",
        "outputId": "61941824-ae43-4dfd-9e5a-7337eb7954a3"
      },
      "source": [
        "model.evaluate(X_test, y_test)"
      ],
      "execution_count": null,
      "outputs": [
        {
          "output_type": "stream",
          "text": [
            "4/4 [==============================] - 0s 749us/step - loss: 0.4715 - accuracy: 0.8475\n"
          ],
          "name": "stdout"
        },
        {
          "output_type": "execute_result",
          "data": {
            "text/plain": [
              "[0.47146737575531006, 0.8474576473236084]"
            ]
          },
          "metadata": {
            "tags": []
          },
          "execution_count": 9
        }
      ]
    },
    {
      "cell_type": "markdown",
      "metadata": {
        "id": "14z0k_SJFmxw"
      },
      "source": [
        "## Machine Learning - Logistic Regression"
      ]
    },
    {
      "cell_type": "code",
      "metadata": {
        "id": "9F5fu0uuFmxw"
      },
      "source": [
        "from sklearn.preprocessing import MinMaxScaler\n",
        "scaler = MinMaxScaler()\n",
        "X_scaled = scaler.fit_transform(df.iloc[:,:-1].values)"
      ],
      "execution_count": null,
      "outputs": []
    },
    {
      "cell_type": "code",
      "metadata": {
        "id": "0duqi9XQFmxx"
      },
      "source": [
        "X_train, X_test, y_train, y_test = train_test_split(\n",
        "    X_scaled, df.iloc[:,-1].values,\n",
        "    stratify=df.iloc[:,-1].values, random_state=2021\n",
        ")"
      ],
      "execution_count": null,
      "outputs": []
    },
    {
      "cell_type": "code",
      "metadata": {
        "id": "BIywCZWiFmxx"
      },
      "source": [
        "from sklearn.linear_model import LogisticRegression\n",
        "from sklearn.metrics import accuracy_score"
      ],
      "execution_count": null,
      "outputs": []
    },
    {
      "cell_type": "code",
      "metadata": {
        "id": "Aki5a0k8Fmxx",
        "outputId": "1c9d86da-1422-46ac-836e-2506ca6e8cb9"
      },
      "source": [
        "lr = LogisticRegression()\n",
        "lr.fit(X_train, y_train)\n",
        "pred = lr.predict(X_test)\n",
        "accuracy_score(y_test, pred)"
      ],
      "execution_count": null,
      "outputs": [
        {
          "output_type": "execute_result",
          "data": {
            "text/plain": [
              "0.8389830508474576"
            ]
          },
          "metadata": {
            "tags": []
          },
          "execution_count": 13
        }
      ]
    },
    {
      "cell_type": "markdown",
      "metadata": {
        "id": "SSh5OgQTFmxx"
      },
      "source": [
        "## Scale된 데이터로 딥러닝을 수행하면?"
      ]
    },
    {
      "cell_type": "code",
      "metadata": {
        "id": "udDsy2XCFmxx",
        "outputId": "2eb932fe-5e22-4550-8fe3-1605f9bdccb3"
      },
      "source": [
        "model2 = Sequential()\n",
        "model2.add(Dense(30, input_shape=(17,), activation='relu'))\n",
        "model2.add(Dense(1, activation='sigmoid'))\n",
        "model2.summary()"
      ],
      "execution_count": null,
      "outputs": [
        {
          "output_type": "stream",
          "text": [
            "Model: \"sequential_1\"\n",
            "_________________________________________________________________\n",
            "Layer (type)                 Output Shape              Param #   \n",
            "=================================================================\n",
            "dense_2 (Dense)              (None, 30)                540       \n",
            "_________________________________________________________________\n",
            "dense_3 (Dense)              (None, 1)                 31        \n",
            "=================================================================\n",
            "Total params: 571\n",
            "Trainable params: 571\n",
            "Non-trainable params: 0\n",
            "_________________________________________________________________\n"
          ],
          "name": "stdout"
        }
      ]
    },
    {
      "cell_type": "code",
      "metadata": {
        "id": "f5K_Lod6Fmxy"
      },
      "source": [
        "model2.compile(\n",
        "    loss='binary_crossentropy', optimizer='adam', metrics=['accuracy'])"
      ],
      "execution_count": null,
      "outputs": []
    },
    {
      "cell_type": "code",
      "metadata": {
        "id": "_Xa6ul-XFmxy",
        "outputId": "2fbf2dbd-c3ad-4fc5-d250-88a303909660"
      },
      "source": [
        "model2.fit(\n",
        "    X_train, y_train, validation_split=0.2,\n",
        "    epochs=30, batch_size=30\n",
        ")"
      ],
      "execution_count": null,
      "outputs": [
        {
          "output_type": "stream",
          "text": [
            "Epoch 1/30\n",
            "10/10 [==============================] - 0s 22ms/step - loss: 0.9353 - accuracy: 0.1352 - val_loss: 0.8454 - val_accuracy: 0.1972\n",
            "Epoch 2/30\n",
            "10/10 [==============================] - 0s 3ms/step - loss: 0.8371 - accuracy: 0.1601 - val_loss: 0.7702 - val_accuracy: 0.2394\n",
            "Epoch 3/30\n",
            "10/10 [==============================] - 0s 4ms/step - loss: 0.7566 - accuracy: 0.2349 - val_loss: 0.7092 - val_accuracy: 0.3380\n",
            "Epoch 4/30\n",
            "10/10 [==============================] - 0s 5ms/step - loss: 0.6894 - accuracy: 0.5445 - val_loss: 0.6586 - val_accuracy: 0.7606\n",
            "Epoch 5/30\n",
            "10/10 [==============================] - 0s 5ms/step - loss: 0.6300 - accuracy: 0.8114 - val_loss: 0.6165 - val_accuracy: 0.7887\n",
            "Epoch 6/30\n",
            "10/10 [==============================] - 0s 4ms/step - loss: 0.5798 - accuracy: 0.8505 - val_loss: 0.5782 - val_accuracy: 0.8028\n",
            "Epoch 7/30\n",
            "10/10 [==============================] - 0s 4ms/step - loss: 0.5316 - accuracy: 0.8683 - val_loss: 0.5469 - val_accuracy: 0.8028\n",
            "Epoch 8/30\n",
            "10/10 [==============================] - 0s 3ms/step - loss: 0.4930 - accuracy: 0.8648 - val_loss: 0.5244 - val_accuracy: 0.8028\n",
            "Epoch 9/30\n",
            "10/10 [==============================] - 0s 3ms/step - loss: 0.4636 - accuracy: 0.8648 - val_loss: 0.5099 - val_accuracy: 0.8028\n",
            "Epoch 10/30\n",
            "10/10 [==============================] - 0s 3ms/step - loss: 0.4432 - accuracy: 0.8648 - val_loss: 0.5013 - val_accuracy: 0.8028\n",
            "Epoch 11/30\n",
            "10/10 [==============================] - 0s 4ms/step - loss: 0.4273 - accuracy: 0.8648 - val_loss: 0.4982 - val_accuracy: 0.8028\n",
            "Epoch 12/30\n",
            "10/10 [==============================] - 0s 4ms/step - loss: 0.4186 - accuracy: 0.8648 - val_loss: 0.4981 - val_accuracy: 0.8028\n",
            "Epoch 13/30\n",
            "10/10 [==============================] - 0s 3ms/step - loss: 0.4120 - accuracy: 0.8648 - val_loss: 0.4982 - val_accuracy: 0.8028\n",
            "Epoch 14/30\n",
            "10/10 [==============================] - 0s 4ms/step - loss: 0.4090 - accuracy: 0.8648 - val_loss: 0.4999 - val_accuracy: 0.8028\n",
            "Epoch 15/30\n",
            "10/10 [==============================] - 0s 3ms/step - loss: 0.4060 - accuracy: 0.8648 - val_loss: 0.5016 - val_accuracy: 0.8028\n",
            "Epoch 16/30\n",
            "10/10 [==============================] - 0s 3ms/step - loss: 0.4035 - accuracy: 0.8648 - val_loss: 0.5027 - val_accuracy: 0.8028\n",
            "Epoch 17/30\n",
            "10/10 [==============================] - 0s 2ms/step - loss: 0.4019 - accuracy: 0.8648 - val_loss: 0.5023 - val_accuracy: 0.8028\n",
            "Epoch 18/30\n",
            "10/10 [==============================] - 0s 3ms/step - loss: 0.4001 - accuracy: 0.8648 - val_loss: 0.5025 - val_accuracy: 0.8028\n",
            "Epoch 19/30\n",
            "10/10 [==============================] - 0s 3ms/step - loss: 0.3981 - accuracy: 0.8648 - val_loss: 0.5027 - val_accuracy: 0.8028\n",
            "Epoch 20/30\n",
            "10/10 [==============================] - 0s 3ms/step - loss: 0.3968 - accuracy: 0.8648 - val_loss: 0.5028 - val_accuracy: 0.8028\n",
            "Epoch 21/30\n",
            "10/10 [==============================] - 0s 3ms/step - loss: 0.3954 - accuracy: 0.8648 - val_loss: 0.5017 - val_accuracy: 0.8028\n",
            "Epoch 22/30\n",
            "10/10 [==============================] - 0s 3ms/step - loss: 0.3939 - accuracy: 0.8648 - val_loss: 0.5016 - val_accuracy: 0.8028\n",
            "Epoch 23/30\n",
            "10/10 [==============================] - 0s 3ms/step - loss: 0.3926 - accuracy: 0.8648 - val_loss: 0.4999 - val_accuracy: 0.8028\n",
            "Epoch 24/30\n",
            "10/10 [==============================] - 0s 3ms/step - loss: 0.3909 - accuracy: 0.8648 - val_loss: 0.4975 - val_accuracy: 0.8028\n",
            "Epoch 25/30\n",
            "10/10 [==============================] - 0s 3ms/step - loss: 0.3895 - accuracy: 0.8648 - val_loss: 0.4964 - val_accuracy: 0.8028\n",
            "Epoch 26/30\n",
            "10/10 [==============================] - 0s 3ms/step - loss: 0.3881 - accuracy: 0.8648 - val_loss: 0.4959 - val_accuracy: 0.8028\n",
            "Epoch 27/30\n",
            "10/10 [==============================] - 0s 3ms/step - loss: 0.3867 - accuracy: 0.8648 - val_loss: 0.4952 - val_accuracy: 0.8028\n",
            "Epoch 28/30\n",
            "10/10 [==============================] - 0s 3ms/step - loss: 0.3853 - accuracy: 0.8648 - val_loss: 0.4924 - val_accuracy: 0.8028\n",
            "Epoch 29/30\n",
            "10/10 [==============================] - 0s 3ms/step - loss: 0.3840 - accuracy: 0.8648 - val_loss: 0.4914 - val_accuracy: 0.8028\n",
            "Epoch 30/30\n",
            "10/10 [==============================] - 0s 3ms/step - loss: 0.3827 - accuracy: 0.8648 - val_loss: 0.4899 - val_accuracy: 0.8028\n"
          ],
          "name": "stdout"
        },
        {
          "output_type": "execute_result",
          "data": {
            "text/plain": [
              "<tensorflow.python.keras.callbacks.History at 0x1a71185d520>"
            ]
          },
          "metadata": {
            "tags": []
          },
          "execution_count": 16
        }
      ]
    },
    {
      "cell_type": "code",
      "metadata": {
        "id": "Y0t6TrMUFmxy",
        "outputId": "36c2b115-c4bc-4405-cf3c-3c967762ffc9"
      },
      "source": [
        "model2.evaluate(X_test, y_test)"
      ],
      "execution_count": null,
      "outputs": [
        {
          "output_type": "stream",
          "text": [
            "1/4 [======>.......................] - ETA: 0s - loss: 0.6341 - accuracy: 0.7500WARNING:tensorflow:Callbacks method `on_test_batch_begin` is slow compared to the batch time (batch time: 0.0000s vs `on_test_batch_begin` time: 0.0010s). Check your callbacks.\n",
            "WARNING:tensorflow:Callbacks method `on_test_batch_end` is slow compared to the batch time (batch time: 0.0000s vs `on_test_batch_end` time: 0.0010s). Check your callbacks.\n",
            "4/4 [==============================] - 0s 2ms/step - loss: 0.4375 - accuracy: 0.8475\n"
          ],
          "name": "stdout"
        },
        {
          "output_type": "execute_result",
          "data": {
            "text/plain": [
              "[0.4375151991844177, 0.8474576473236084]"
            ]
          },
          "metadata": {
            "tags": []
          },
          "execution_count": 17
        }
      ]
    }
  ]
}