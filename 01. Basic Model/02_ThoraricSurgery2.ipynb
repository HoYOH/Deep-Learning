{
  "nbformat": 4,
  "nbformat_minor": 0,
  "metadata": {
    "interpreter": {
      "hash": "c81169c30fb96244cfba0db287a0d3fd5325268de070a7a6116eecd4596df902"
    },
    "kernelspec": {
      "display_name": "Python 3.8.8 64-bit ('base': conda)",
      "name": "python3"
    },
    "language_info": {
      "name": "python",
      "version": ""
    },
    "orig_nbformat": 4,
    "colab": {
      "name": "02_ThoraricSurgery2.ipynb",
      "provenance": [],
      "include_colab_link": true
    }
  },
  "cells": [
    {
      "cell_type": "markdown",
      "metadata": {
        "id": "view-in-github",
        "colab_type": "text"
      },
      "source": [
        "<a href=\"https://colab.research.google.com/github/HoYOH/Deep-Learning/blob/main/02_ThoraricSurgery2.ipynb\" target=\"_parent\"><img src=\"https://colab.research.google.com/assets/colab-badge.svg\" alt=\"Open In Colab\"/></a>"
      ]
    },
    {
      "cell_type": "markdown",
      "metadata": {
        "id": "2tiBR8YhGnov"
      },
      "source": [
        "# 폐병 환자 수술 (Thoraric Surgery)\n",
        "은닉층(hidden layer)을 여러개 둠"
      ]
    },
    {
      "cell_type": "code",
      "metadata": {
        "id": "16OhD7BvGno0"
      },
      "source": [
        "import numpy as np\n",
        "import pandas as pd "
      ],
      "execution_count": null,
      "outputs": []
    },
    {
      "cell_type": "code",
      "metadata": {
        "id": "WQztJY08Gno1",
        "outputId": "3ab2348d-6630-4f52-82d7-40444e13a55b"
      },
      "source": [
        "df = pd.read_csv('C:/workspace/ThoraricSurgery.csv', header = None)\n",
        "df.head()"
      ],
      "execution_count": null,
      "outputs": [
        {
          "output_type": "execute_result",
          "data": {
            "text/html": [
              "<div>\n",
              "<style scoped>\n",
              "    .dataframe tbody tr th:only-of-type {\n",
              "        vertical-align: middle;\n",
              "    }\n",
              "\n",
              "    .dataframe tbody tr th {\n",
              "        vertical-align: top;\n",
              "    }\n",
              "\n",
              "    .dataframe thead th {\n",
              "        text-align: right;\n",
              "    }\n",
              "</style>\n",
              "<table border=\"1\" class=\"dataframe\">\n",
              "  <thead>\n",
              "    <tr style=\"text-align: right;\">\n",
              "      <th></th>\n",
              "      <th>0</th>\n",
              "      <th>1</th>\n",
              "      <th>2</th>\n",
              "      <th>3</th>\n",
              "      <th>4</th>\n",
              "      <th>5</th>\n",
              "      <th>6</th>\n",
              "      <th>7</th>\n",
              "      <th>8</th>\n",
              "      <th>9</th>\n",
              "      <th>10</th>\n",
              "      <th>11</th>\n",
              "      <th>12</th>\n",
              "      <th>13</th>\n",
              "      <th>14</th>\n",
              "      <th>15</th>\n",
              "      <th>16</th>\n",
              "      <th>17</th>\n",
              "    </tr>\n",
              "  </thead>\n",
              "  <tbody>\n",
              "    <tr>\n",
              "      <th>0</th>\n",
              "      <td>293</td>\n",
              "      <td>1</td>\n",
              "      <td>3.80</td>\n",
              "      <td>2.80</td>\n",
              "      <td>0</td>\n",
              "      <td>0</td>\n",
              "      <td>0</td>\n",
              "      <td>0</td>\n",
              "      <td>0</td>\n",
              "      <td>0</td>\n",
              "      <td>12</td>\n",
              "      <td>0</td>\n",
              "      <td>0</td>\n",
              "      <td>0</td>\n",
              "      <td>1</td>\n",
              "      <td>0</td>\n",
              "      <td>62</td>\n",
              "      <td>0</td>\n",
              "    </tr>\n",
              "    <tr>\n",
              "      <th>1</th>\n",
              "      <td>1</td>\n",
              "      <td>2</td>\n",
              "      <td>2.88</td>\n",
              "      <td>2.16</td>\n",
              "      <td>1</td>\n",
              "      <td>0</td>\n",
              "      <td>0</td>\n",
              "      <td>0</td>\n",
              "      <td>1</td>\n",
              "      <td>1</td>\n",
              "      <td>14</td>\n",
              "      <td>0</td>\n",
              "      <td>0</td>\n",
              "      <td>0</td>\n",
              "      <td>1</td>\n",
              "      <td>0</td>\n",
              "      <td>60</td>\n",
              "      <td>0</td>\n",
              "    </tr>\n",
              "    <tr>\n",
              "      <th>2</th>\n",
              "      <td>8</td>\n",
              "      <td>2</td>\n",
              "      <td>3.19</td>\n",
              "      <td>2.50</td>\n",
              "      <td>1</td>\n",
              "      <td>0</td>\n",
              "      <td>0</td>\n",
              "      <td>0</td>\n",
              "      <td>1</td>\n",
              "      <td>0</td>\n",
              "      <td>11</td>\n",
              "      <td>0</td>\n",
              "      <td>0</td>\n",
              "      <td>1</td>\n",
              "      <td>1</td>\n",
              "      <td>0</td>\n",
              "      <td>66</td>\n",
              "      <td>1</td>\n",
              "    </tr>\n",
              "    <tr>\n",
              "      <th>3</th>\n",
              "      <td>14</td>\n",
              "      <td>2</td>\n",
              "      <td>3.98</td>\n",
              "      <td>3.06</td>\n",
              "      <td>2</td>\n",
              "      <td>0</td>\n",
              "      <td>0</td>\n",
              "      <td>0</td>\n",
              "      <td>1</td>\n",
              "      <td>1</td>\n",
              "      <td>14</td>\n",
              "      <td>0</td>\n",
              "      <td>0</td>\n",
              "      <td>0</td>\n",
              "      <td>1</td>\n",
              "      <td>0</td>\n",
              "      <td>80</td>\n",
              "      <td>1</td>\n",
              "    </tr>\n",
              "    <tr>\n",
              "      <th>4</th>\n",
              "      <td>17</td>\n",
              "      <td>2</td>\n",
              "      <td>2.21</td>\n",
              "      <td>1.88</td>\n",
              "      <td>0</td>\n",
              "      <td>0</td>\n",
              "      <td>1</td>\n",
              "      <td>0</td>\n",
              "      <td>0</td>\n",
              "      <td>0</td>\n",
              "      <td>12</td>\n",
              "      <td>0</td>\n",
              "      <td>0</td>\n",
              "      <td>0</td>\n",
              "      <td>1</td>\n",
              "      <td>0</td>\n",
              "      <td>56</td>\n",
              "      <td>0</td>\n",
              "    </tr>\n",
              "  </tbody>\n",
              "</table>\n",
              "</div>"
            ],
            "text/plain": [
              "    0   1     2     3   4   5   6   7   8   9   10  11  12  13  14  15  16  17\n",
              "0  293   1  3.80  2.80   0   0   0   0   0   0  12   0   0   0   1   0  62   0\n",
              "1    1   2  2.88  2.16   1   0   0   0   1   1  14   0   0   0   1   0  60   0\n",
              "2    8   2  3.19  2.50   1   0   0   0   1   0  11   0   0   1   1   0  66   1\n",
              "3   14   2  3.98  3.06   2   0   0   0   1   1  14   0   0   0   1   0  80   1\n",
              "4   17   2  2.21  1.88   0   0   1   0   0   0  12   0   0   0   1   0  56   0"
            ]
          },
          "metadata": {
            "tags": []
          },
          "execution_count": 12
        }
      ]
    },
    {
      "cell_type": "markdown",
      "metadata": {
        "id": "NNC62EvqGno3"
      },
      "source": [
        "## 데이터셋 만들기"
      ]
    },
    {
      "cell_type": "code",
      "metadata": {
        "id": "u1LpKoe0Gno4",
        "outputId": "8aa4538d-8c99-430e-fac1-5793bae976bc"
      },
      "source": [
        "from sklearn.model_selection import train_test_split\n",
        "X_train, X_test, y_train, y_test = train_test_split(\n",
        "    df.iloc[:, :-1].values, df.iloc[:, -1].values, \n",
        "    stratify=df.iloc[:, -1].values,\n",
        "    random_state=2021\n",
        ")\n",
        "X_train.shape, X_test.shape, y_train.shape, y_test.shape"
      ],
      "execution_count": null,
      "outputs": [
        {
          "output_type": "execute_result",
          "data": {
            "text/plain": [
              "((352, 17), (118, 17), (352,), (118,))"
            ]
          },
          "metadata": {
            "tags": []
          },
          "execution_count": 13
        }
      ]
    },
    {
      "cell_type": "markdown",
      "metadata": {
        "id": "pB5GrPFeGno5"
      },
      "source": [
        "## 모델정의"
      ]
    },
    {
      "cell_type": "code",
      "metadata": {
        "id": "xZ2DGi_KGno5"
      },
      "source": [
        "import tensorflow as tf\n",
        "# seed 값 설정\n",
        "seed = 2021\n",
        "np.random.seed(seed)\n",
        "tf.random.set_seed(seed)"
      ],
      "execution_count": null,
      "outputs": []
    },
    {
      "cell_type": "code",
      "metadata": {
        "id": "9SgOKPMwGno6"
      },
      "source": [
        "from tensorflow.keras.models import Sequential\n",
        "from tensorflow.keras.layers import Dense"
      ],
      "execution_count": null,
      "outputs": []
    },
    {
      "cell_type": "code",
      "metadata": {
        "id": "djidj_iRGno7",
        "outputId": "c19f7ef0-aeee-4c1e-a723-edd0dd975526"
      },
      "source": [
        "model = Sequential()\n",
        "model.add(Dense(30, input_shape=(17,), activation='relu')) ## (352,17) 로 열이 17개니까\n",
        "model.add(Dense(1, activation='sigmoid'))\n",
        "model.summary()"
      ],
      "execution_count": null,
      "outputs": [
        {
          "output_type": "stream",
          "text": [
            "Model: \"sequential\"\n",
            "_________________________________________________________________\n",
            "Layer (type)                 Output Shape              Param #   \n",
            "=================================================================\n",
            "dense (Dense)                (None, 30)                540       \n",
            "_________________________________________________________________\n",
            "dense_1 (Dense)              (None, 1)                 31        \n",
            "=================================================================\n",
            "Total params: 571\n",
            "Trainable params: 571\n",
            "Non-trainable params: 0\n",
            "_________________________________________________________________\n"
          ],
          "name": "stdout"
        }
      ]
    },
    {
      "cell_type": "markdown",
      "metadata": {
        "id": "A7oU1n2KGno8"
      },
      "source": [
        "## 모델 컴파일 - 실행환경 설정"
      ]
    },
    {
      "cell_type": "code",
      "metadata": {
        "id": "7rLJjpp8Gno8"
      },
      "source": [
        "# 모델이 돌아가게끔 실행환경 설정 - 모델 컴파일\n",
        "model.compile(loss='binary_crossentropy', optimizer='adam', metrics=['accuracy'])\n",
        "# 지금 하려는게 이진분류니까 binary"
      ],
      "execution_count": null,
      "outputs": []
    },
    {
      "cell_type": "code",
      "metadata": {
        "id": "jCWM1zOIGno9",
        "outputId": "35e0ff8c-c59b-4b8c-cf5c-c3040a8a2eb3"
      },
      "source": [
        "model.fit(X_train, y_train, validation_split=0.2, epochs=30, batch_size=10)"
      ],
      "execution_count": null,
      "outputs": [
        {
          "output_type": "stream",
          "text": [
            "Epoch 1/30\n",
            "29/29 [==============================] - 0s 8ms/step - loss: 4.0098 - accuracy: 0.5587 - val_loss: 2.6058 - val_accuracy: 0.7042\n",
            "Epoch 2/30\n",
            "29/29 [==============================] - 0s 1ms/step - loss: 1.2580 - accuracy: 0.8185 - val_loss: 0.9057 - val_accuracy: 0.7183\n",
            "Epoch 3/30\n",
            "29/29 [==============================] - 0s 2ms/step - loss: 0.5162 - accuracy: 0.8292 - val_loss: 0.6953 - val_accuracy: 0.7606\n",
            "Epoch 4/30\n",
            "29/29 [==============================] - 0s 2ms/step - loss: 0.4768 - accuracy: 0.8470 - val_loss: 0.6481 - val_accuracy: 0.7324\n",
            "Epoch 5/30\n",
            "29/29 [==============================] - 0s 2ms/step - loss: 0.4372 - accuracy: 0.8470 - val_loss: 0.6261 - val_accuracy: 0.7606\n",
            "Epoch 6/30\n",
            "29/29 [==============================] - 0s 2ms/step - loss: 0.4383 - accuracy: 0.8577 - val_loss: 0.6137 - val_accuracy: 0.7746\n",
            "Epoch 7/30\n",
            "29/29 [==============================] - 0s 1ms/step - loss: 0.4583 - accuracy: 0.8434 - val_loss: 0.7721 - val_accuracy: 0.7746\n",
            "Epoch 8/30\n",
            "29/29 [==============================] - 0s 1ms/step - loss: 0.4909 - accuracy: 0.8612 - val_loss: 0.6081 - val_accuracy: 0.7746\n",
            "Epoch 9/30\n",
            "29/29 [==============================] - 0s 1ms/step - loss: 0.4707 - accuracy: 0.8683 - val_loss: 0.9665 - val_accuracy: 0.7887\n",
            "Epoch 10/30\n",
            "29/29 [==============================] - 0s 1ms/step - loss: 0.4471 - accuracy: 0.8577 - val_loss: 0.5844 - val_accuracy: 0.7746\n",
            "Epoch 11/30\n",
            "29/29 [==============================] - 0s 1ms/step - loss: 0.4112 - accuracy: 0.8577 - val_loss: 0.5881 - val_accuracy: 0.7746\n",
            "Epoch 12/30\n",
            "29/29 [==============================] - 0s 1ms/step - loss: 0.4224 - accuracy: 0.8612 - val_loss: 0.7195 - val_accuracy: 0.7887\n",
            "Epoch 13/30\n",
            "29/29 [==============================] - 0s 1ms/step - loss: 0.4501 - accuracy: 0.8577 - val_loss: 0.6925 - val_accuracy: 0.7887\n",
            "Epoch 14/30\n",
            "29/29 [==============================] - 0s 2ms/step - loss: 0.4578 - accuracy: 0.8577 - val_loss: 0.6129 - val_accuracy: 0.7887\n",
            "Epoch 15/30\n",
            "29/29 [==============================] - 0s 1ms/step - loss: 0.4718 - accuracy: 0.8577 - val_loss: 0.6310 - val_accuracy: 0.7887\n",
            "Epoch 16/30\n",
            "29/29 [==============================] - 0s 1ms/step - loss: 0.4483 - accuracy: 0.8541 - val_loss: 0.6748 - val_accuracy: 0.7887\n",
            "Epoch 17/30\n",
            "29/29 [==============================] - 0s 2ms/step - loss: 0.4372 - accuracy: 0.8648 - val_loss: 0.8401 - val_accuracy: 0.7887\n",
            "Epoch 18/30\n",
            "29/29 [==============================] - 0s 1ms/step - loss: 0.3954 - accuracy: 0.8683 - val_loss: 0.5982 - val_accuracy: 0.7887\n",
            "Epoch 19/30\n",
            "29/29 [==============================] - 0s 1ms/step - loss: 0.3999 - accuracy: 0.8648 - val_loss: 0.6581 - val_accuracy: 0.7887\n",
            "Epoch 20/30\n",
            "29/29 [==============================] - 0s 2ms/step - loss: 0.4061 - accuracy: 0.8612 - val_loss: 0.5901 - val_accuracy: 0.7887\n",
            "Epoch 21/30\n",
            "29/29 [==============================] - 0s 2ms/step - loss: 0.3886 - accuracy: 0.8612 - val_loss: 0.8233 - val_accuracy: 0.7887\n",
            "Epoch 22/30\n",
            "29/29 [==============================] - 0s 2ms/step - loss: 0.4584 - accuracy: 0.8541 - val_loss: 0.6124 - val_accuracy: 0.7887\n",
            "Epoch 23/30\n",
            "29/29 [==============================] - 0s 2ms/step - loss: 0.3856 - accuracy: 0.8612 - val_loss: 1.2505 - val_accuracy: 0.3803\n",
            "Epoch 24/30\n",
            "29/29 [==============================] - 0s 2ms/step - loss: 0.7887 - accuracy: 0.7580 - val_loss: 0.6031 - val_accuracy: 0.7465\n",
            "Epoch 25/30\n",
            "29/29 [==============================] - 0s 2ms/step - loss: 0.4174 - accuracy: 0.8683 - val_loss: 0.6962 - val_accuracy: 0.7887\n",
            "Epoch 26/30\n",
            "29/29 [==============================] - 0s 2ms/step - loss: 0.3835 - accuracy: 0.8612 - val_loss: 0.6511 - val_accuracy: 0.7887\n",
            "Epoch 27/30\n",
            "29/29 [==============================] - 0s 2ms/step - loss: 0.3929 - accuracy: 0.8612 - val_loss: 0.5990 - val_accuracy: 0.7887\n",
            "Epoch 28/30\n",
            "29/29 [==============================] - 0s 2ms/step - loss: 0.3936 - accuracy: 0.8612 - val_loss: 0.6281 - val_accuracy: 0.7887\n",
            "Epoch 29/30\n",
            "29/29 [==============================] - 0s 1ms/step - loss: 0.3910 - accuracy: 0.8541 - val_loss: 0.6793 - val_accuracy: 0.7887\n",
            "Epoch 30/30\n",
            "29/29 [==============================] - 0s 1ms/step - loss: 0.4102 - accuracy: 0.8577 - val_loss: 0.6085 - val_accuracy: 0.7887\n"
          ],
          "name": "stdout"
        },
        {
          "output_type": "execute_result",
          "data": {
            "text/plain": [
              "<tensorflow.python.keras.callbacks.History at 0x20fffc3e400>"
            ]
          },
          "metadata": {
            "tags": []
          },
          "execution_count": 18
        }
      ]
    },
    {
      "cell_type": "code",
      "metadata": {
        "id": "21djdrzpGno9",
        "outputId": "9815183c-e262-4425-b1a5-38566902cfd4"
      },
      "source": [
        "model.evaluate(X_test, y_test)"
      ],
      "execution_count": null,
      "outputs": [
        {
          "output_type": "stream",
          "text": [
            "4/4 [==============================] - 0s 508us/step - loss: 0.4661 - accuracy: 0.8475\n"
          ],
          "name": "stdout"
        },
        {
          "output_type": "execute_result",
          "data": {
            "text/plain": [
              "[0.4661109745502472, 0.8474576473236084]"
            ]
          },
          "metadata": {
            "tags": []
          },
          "execution_count": 19
        }
      ]
    },
    {
      "cell_type": "markdown",
      "metadata": {
        "id": "IsTzteB2Gno-"
      },
      "source": [
        "## Machine Learning - Logistic Reg"
      ]
    },
    {
      "cell_type": "code",
      "metadata": {
        "id": "v0dhnmDZGno-"
      },
      "source": [
        "# 위 데이터를 바로 쓰면 에러가 나니까 스케일링 해줘야함\n",
        "from sklearn.preprocessing import MinMaxScaler\n",
        "scaler = MinMaxScaler()\n",
        "X_scaled = scaler.fit_transform(df.iloc[:,:-1].values)"
      ],
      "execution_count": null,
      "outputs": []
    },
    {
      "cell_type": "code",
      "metadata": {
        "id": "Al4XT9Q0Gno_"
      },
      "source": [
        "X_train, X_test, y_train, y_test = train_test_split(\n",
        "    X_scaled, df.iloc[:, -1].values, \n",
        "    stratify=df.iloc[:, -1].values,\n",
        "    random_state=2021\n",
        ")"
      ],
      "execution_count": null,
      "outputs": []
    },
    {
      "cell_type": "code",
      "metadata": {
        "id": "S7Ut2ZtPGno_"
      },
      "source": [
        "from sklearn.linear_model import LogisticRegression\n",
        "from sklearn.metrics import accuracy_score"
      ],
      "execution_count": null,
      "outputs": []
    },
    {
      "cell_type": "code",
      "metadata": {
        "id": "BCXWpEcSGnpA",
        "outputId": "fa8283d2-343a-479e-ebf0-96af25384be9"
      },
      "source": [
        "lr = LogisticRegression()\n",
        "lr.fit(X_train, y_train)\n",
        "pred = lr.predict(X_test)\n",
        "accuracy_score(y_test, pred)"
      ],
      "execution_count": null,
      "outputs": [
        {
          "output_type": "execute_result",
          "data": {
            "text/plain": [
              "0.8389830508474576"
            ]
          },
          "metadata": {
            "tags": []
          },
          "execution_count": 24
        }
      ]
    },
    {
      "cell_type": "markdown",
      "metadata": {
        "id": "eRULiixNGnpA"
      },
      "source": [
        "##"
      ]
    },
    {
      "cell_type": "code",
      "metadata": {
        "id": "64l_JJ_nGnpB",
        "outputId": "90cdbabe-16db-4af4-9383-832a836b1996"
      },
      "source": [
        "model2 = Sequential()\n",
        "model2.add(Dense(30, input_shape=(17,), activation='relu')) ## (352,17) 로 열이 17개니까\n",
        "model2.add(Dense(1, activation='sigmoid'))\n",
        "model2.summary()"
      ],
      "execution_count": null,
      "outputs": [
        {
          "output_type": "stream",
          "text": [
            "Model: \"sequential_1\"\n",
            "_________________________________________________________________\n",
            "Layer (type)                 Output Shape              Param #   \n",
            "=================================================================\n",
            "dense_2 (Dense)              (None, 30)                540       \n",
            "_________________________________________________________________\n",
            "dense_3 (Dense)              (None, 1)                 31        \n",
            "=================================================================\n",
            "Total params: 571\n",
            "Trainable params: 571\n",
            "Non-trainable params: 0\n",
            "_________________________________________________________________\n"
          ],
          "name": "stdout"
        }
      ]
    },
    {
      "cell_type": "code",
      "metadata": {
        "id": "MT5j87NlGnpB"
      },
      "source": [
        "model2.compile(\n",
        "    loss='binary_crossentropy', optimizer='adam', metrics=['accuracy'])"
      ],
      "execution_count": null,
      "outputs": []
    },
    {
      "cell_type": "code",
      "metadata": {
        "id": "LE85M2d6GnpB",
        "outputId": "f01ce5a8-35fa-49d9-db1b-6337a03ae6d0"
      },
      "source": [
        "model2.fit(X_train, y_train, validation_split=0.2,\n",
        "            epochs=30, batch_size=30\n",
        ")"
      ],
      "execution_count": null,
      "outputs": [
        {
          "output_type": "stream",
          "text": [
            "Epoch 1/30\n",
            "10/10 [==============================] - 0s 12ms/step - loss: 0.9353 - accuracy: 0.1352 - val_loss: 0.8454 - val_accuracy: 0.1972\n",
            "Epoch 2/30\n",
            "10/10 [==============================] - 0s 3ms/step - loss: 0.8371 - accuracy: 0.1601 - val_loss: 0.7702 - val_accuracy: 0.2394\n",
            "Epoch 3/30\n",
            "10/10 [==============================] - 0s 3ms/step - loss: 0.7566 - accuracy: 0.2349 - val_loss: 0.7092 - val_accuracy: 0.3380\n",
            "Epoch 4/30\n",
            "10/10 [==============================] - 0s 3ms/step - loss: 0.6894 - accuracy: 0.5445 - val_loss: 0.6586 - val_accuracy: 0.7606\n",
            "Epoch 5/30\n",
            "10/10 [==============================] - 0s 3ms/step - loss: 0.6300 - accuracy: 0.8114 - val_loss: 0.6165 - val_accuracy: 0.7887\n",
            "Epoch 6/30\n",
            "10/10 [==============================] - 0s 3ms/step - loss: 0.5798 - accuracy: 0.8505 - val_loss: 0.5782 - val_accuracy: 0.8028\n",
            "Epoch 7/30\n",
            "10/10 [==============================] - 0s 3ms/step - loss: 0.5316 - accuracy: 0.8683 - val_loss: 0.5469 - val_accuracy: 0.8028\n",
            "Epoch 8/30\n",
            "10/10 [==============================] - 0s 3ms/step - loss: 0.4930 - accuracy: 0.8648 - val_loss: 0.5244 - val_accuracy: 0.8028\n",
            "Epoch 9/30\n",
            "10/10 [==============================] - 0s 3ms/step - loss: 0.4636 - accuracy: 0.8648 - val_loss: 0.5099 - val_accuracy: 0.8028\n",
            "Epoch 10/30\n",
            "10/10 [==============================] - 0s 2ms/step - loss: 0.4432 - accuracy: 0.8648 - val_loss: 0.5013 - val_accuracy: 0.8028\n",
            "Epoch 11/30\n",
            "10/10 [==============================] - 0s 3ms/step - loss: 0.4273 - accuracy: 0.8648 - val_loss: 0.4982 - val_accuracy: 0.8028\n",
            "Epoch 12/30\n",
            "10/10 [==============================] - 0s 3ms/step - loss: 0.4186 - accuracy: 0.8648 - val_loss: 0.4981 - val_accuracy: 0.8028\n",
            "Epoch 13/30\n",
            "10/10 [==============================] - 0s 3ms/step - loss: 0.4120 - accuracy: 0.8648 - val_loss: 0.4982 - val_accuracy: 0.8028\n",
            "Epoch 14/30\n",
            "10/10 [==============================] - 0s 3ms/step - loss: 0.4090 - accuracy: 0.8648 - val_loss: 0.4999 - val_accuracy: 0.8028\n",
            "Epoch 15/30\n",
            "10/10 [==============================] - 0s 3ms/step - loss: 0.4060 - accuracy: 0.8648 - val_loss: 0.5016 - val_accuracy: 0.8028\n",
            "Epoch 16/30\n",
            "10/10 [==============================] - 0s 2ms/step - loss: 0.4035 - accuracy: 0.8648 - val_loss: 0.5027 - val_accuracy: 0.8028\n",
            "Epoch 17/30\n",
            "10/10 [==============================] - 0s 2ms/step - loss: 0.4019 - accuracy: 0.8648 - val_loss: 0.5023 - val_accuracy: 0.8028\n",
            "Epoch 18/30\n",
            "10/10 [==============================] - 0s 3ms/step - loss: 0.4001 - accuracy: 0.8648 - val_loss: 0.5025 - val_accuracy: 0.8028\n",
            "Epoch 19/30\n",
            "10/10 [==============================] - 0s 3ms/step - loss: 0.3981 - accuracy: 0.8648 - val_loss: 0.5027 - val_accuracy: 0.8028\n",
            "Epoch 20/30\n",
            "10/10 [==============================] - 0s 2ms/step - loss: 0.3968 - accuracy: 0.8648 - val_loss: 0.5028 - val_accuracy: 0.8028\n",
            "Epoch 21/30\n",
            "10/10 [==============================] - 0s 3ms/step - loss: 0.3954 - accuracy: 0.8648 - val_loss: 0.5017 - val_accuracy: 0.8028\n",
            "Epoch 22/30\n",
            "10/10 [==============================] - 0s 2ms/step - loss: 0.3939 - accuracy: 0.8648 - val_loss: 0.5016 - val_accuracy: 0.8028\n",
            "Epoch 23/30\n",
            "10/10 [==============================] - 0s 2ms/step - loss: 0.3926 - accuracy: 0.8648 - val_loss: 0.4999 - val_accuracy: 0.8028\n",
            "Epoch 24/30\n",
            "10/10 [==============================] - 0s 2ms/step - loss: 0.3909 - accuracy: 0.8648 - val_loss: 0.4975 - val_accuracy: 0.8028\n",
            "Epoch 25/30\n",
            "10/10 [==============================] - 0s 2ms/step - loss: 0.3895 - accuracy: 0.8648 - val_loss: 0.4964 - val_accuracy: 0.8028\n",
            "Epoch 26/30\n",
            "10/10 [==============================] - 0s 3ms/step - loss: 0.3881 - accuracy: 0.8648 - val_loss: 0.4959 - val_accuracy: 0.8028\n",
            "Epoch 27/30\n",
            "10/10 [==============================] - 0s 2ms/step - loss: 0.3867 - accuracy: 0.8648 - val_loss: 0.4952 - val_accuracy: 0.8028\n",
            "Epoch 28/30\n",
            "10/10 [==============================] - 0s 2ms/step - loss: 0.3853 - accuracy: 0.8648 - val_loss: 0.4924 - val_accuracy: 0.8028\n",
            "Epoch 29/30\n",
            "10/10 [==============================] - 0s 3ms/step - loss: 0.3840 - accuracy: 0.8648 - val_loss: 0.4914 - val_accuracy: 0.8028\n",
            "Epoch 30/30\n",
            "10/10 [==============================] - 0s 2ms/step - loss: 0.3827 - accuracy: 0.8648 - val_loss: 0.4899 - val_accuracy: 0.8028\n"
          ],
          "name": "stdout"
        },
        {
          "output_type": "execute_result",
          "data": {
            "text/plain": [
              "<tensorflow.python.keras.callbacks.History at 0x20f873b0580>"
            ]
          },
          "metadata": {
            "tags": []
          },
          "execution_count": 27
        }
      ]
    },
    {
      "cell_type": "code",
      "metadata": {
        "id": "MYji7R0ZGnpC",
        "outputId": "a402e2d2-5da2-47af-95e3-5cf8446e7022"
      },
      "source": [
        "model2.evaluate(X_test, y_test)"
      ],
      "execution_count": null,
      "outputs": [
        {
          "output_type": "stream",
          "text": [
            "4/4 [==============================] - 0s 749us/step - loss: 0.4375 - accuracy: 0.8475\n"
          ],
          "name": "stdout"
        },
        {
          "output_type": "execute_result",
          "data": {
            "text/plain": [
              "[0.4375151991844177, 0.8474576473236084]"
            ]
          },
          "metadata": {
            "tags": []
          },
          "execution_count": 28
        }
      ]
    },
    {
      "cell_type": "code",
      "metadata": {
        "id": "r0u2Tzn5GnpC"
      },
      "source": [
        ""
      ],
      "execution_count": null,
      "outputs": []
    }
  ]
}
